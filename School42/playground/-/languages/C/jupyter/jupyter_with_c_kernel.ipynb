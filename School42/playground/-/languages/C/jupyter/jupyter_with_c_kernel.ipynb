{
 "cells": [
  {
   "cell_type": "code",
   "execution_count": 1,
   "id": "8ba3764f",
   "metadata": {
    "scrolled": true
   },
   "outputs": [
    {
     "name": "stdout",
     "output_type": "stream",
     "text": [
      "Length of the string is: 5\n"
     ]
    }
   ],
   "source": [
    "#include <stdio.h>\n",
    "//#include <string.h>\n",
    "//#include <stddef.h>\n",
    "\n",
    "size_t strlen(const char* s) {\n",
    "    size_t length = 0;\n",
    "    while (s[length] != '\\0') {\n",
    "        length++;\n",
    "    }\n",
    "    return length;\n",
    "}\n",
    "\n",
    "\n",
    "int main() {\n",
    "    const char *str = \"hello\";\n",
    "    int length = strlen(str);\n",
    "    printf(\"Length of the string is: %d\\n\", length);\n",
    "    return 0;\n",
    "}\n"
   ]
  }
 ],
 "metadata": {
  "kernelspec": {
   "display_name": "C",
   "language": "c",
   "name": "c"
  },
  "language_info": {
   "file_extension": ".c",
   "mimetype": "text/plain",
   "name": "c"
  }
 },
 "nbformat": 4,
 "nbformat_minor": 5
}
