{
 "cells": [
  {
   "cell_type": "code",
   "execution_count": 9,
   "id": "f9881bd5",
   "metadata": {},
   "outputs": [
    {
     "name": "stderr",
     "output_type": "stream",
     "text": [
      "/tmp/tmpl58f2moa.c:1:1: error: expected identifier or ‘(’ before ‘%’ token\n",
      "    1 | %% file c_program.c\n",
      "      | ^\n",
      "[C kernel] GCC exited with code 1, the executable will not be executed"
     ]
    }
   ],
   "source": [
    "%% file c_program.c\n",
    "sample text"
   ]
  },
  {
   "cell_type": "code",
   "execution_count": 7,
   "id": "ec51b226",
   "metadata": {
    "scrolled": true
   },
   "outputs": [
    {
     "name": "stdout",
     "output_type": "stream",
     "text": [
      "Length of the string is: 5\n"
     ]
    }
   ],
   "source": [
    "#include <stdio.h>\n",
    "//#include <string.h>\n",
    "//#include <stddef.h>\n",
    "\n",
    "size_t strlen(const char* s) {\n",
    "    size_t length = 0;\n",
    "    while (s[length] != '\\0') {\n",
    "        length++;\n",
    "    }\n",
    "    return length;\n",
    "}\n",
    "\n",
    "\n",
    "int main() {\n",
    "    const char *str = \"hello\";\n",
    "    int length = strlen(str);\n",
    "    printf(\"Length of the string is: %d\\n\", length);\n",
    "    return 0;\n",
    "}\n"
   ]
  },
  {
   "cell_type": "markdown",
   "id": "41cc81b9",
   "metadata": {},
   "source": [
    "# "
   ]
  }
 ],
 "metadata": {
  "kernelspec": {
   "display_name": "C",
   "language": "c",
   "name": "c"
  },
  "language_info": {
   "file_extension": ".c",
   "mimetype": "text/plain",
   "name": "c"
  }
 },
 "nbformat": 4,
 "nbformat_minor": 5
}
