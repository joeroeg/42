{
 "cells": [
  {
   "cell_type": "code",
   "execution_count": 1,
   "id": "8ba3764f",
   "metadata": {
    "scrolled": true
   },
   "outputs": [
    {
     "name": "stdout",
     "output_type": "stream",
     "text": [
      "Writing jupyter.c\n"
     ]
    }
   ],
   "source": [
    "%%file jupyter.c\n",
    "\n",
    "#include <stdio.h>\n",
    "//#include <string.h>\n",
    "//#include <stddef.h>\n",
    "\n",
    "size_t strlen(const char* s) {\n",
    "    size_t length = 0;\n",
    "    while (s[length] != '\\0') {\n",
    "        length++;\n",
    "    }\n",
    "    return length;\n",
    "}\n",
    "\n",
    "\n",
    "int main() {\n",
    "    const char *str = \"hello\";\n",
    "    int length = strlen(str);\n",
    "    printf(\"Length of the string is: %d\\n\", length);\n",
    "    return 0;\n",
    "}\n"
   ]
  },
  {
   "cell_type": "code",
   "execution_count": 2,
   "id": "ca4feb20",
   "metadata": {},
   "outputs": [
    {
     "name": "stdout",
     "output_type": "stream",
     "text": [
      "Length of the string is: 5\n"
     ]
    }
   ],
   "source": [
    "%%bash\n",
    "gcc jupyter.c && ./a.out"
   ]
  }
 ],
 "metadata": {
  "kernelspec": {
   "display_name": "Python 3 (ipykernel)",
   "language": "python",
   "name": "python3"
  }
 },
 "nbformat": 4,
 "nbformat_minor": 5
}
