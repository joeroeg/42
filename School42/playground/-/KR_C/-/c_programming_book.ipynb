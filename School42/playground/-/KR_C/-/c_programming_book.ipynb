{
 "cells": [
  {
   "cell_type": "markdown",
   "metadata": {},
   "source": [
    "## CHAPTER 1\n"
   ]
  },
  {
   "cell_type": "markdown",
   "metadata": {},
   "source": [
    "### 1.2 Fahrenheit to Celsius table using `while` loop"
   ]
  },
  {
   "cell_type": "code",
   "execution_count": 1,
   "metadata": {},
   "outputs": [
    {
     "name": "stdout",
     "output_type": "stream",
     "text": [
      "   0  -17.8\n",
      "  20   -6.7\n",
      "  40    4.4\n",
      "  60   15.6\n",
      "  80   26.7\n",
      " 100   37.8\n",
      " 120   48.9\n",
      " 140   60.0\n",
      " 160   71.1\n",
      " 180   82.2\n",
      " 200   93.3\n",
      " 220  104.4\n",
      " 240  115.6\n",
      " 260  126.7\n",
      " 280  137.8\n",
      " 300  148.9\n"
     ]
    }
   ],
   "source": [
    "#include <stdio.h>\n",
    "\n",
    "/* print Fahrenheit-Celsius table\n",
    "for f = 0, 20, ..., 300 */\n",
    "\n",
    "int main()\n",
    "{\n",
    "    int lower, upper, step;\n",
    "    float fahr, celsius;\n",
    "    lower = 0; /* lower limit of temperature table */\n",
    "    upper = 300; /* upper limit */\n",
    "    step = 20; /* step size */\n",
    "    fahr = lower;\n",
    "\n",
    "    while (fahr <= upper) {\n",
    "        celsius = (5.0/9.0) * (fahr-32.0);\n",
    "        printf(\"%4.0f %6.1f\\n\", fahr, celsius);\n",
    "        fahr = fahr + step;\n",
    "    }\n",
    "}"
   ]
  },
  {
   "cell_type": "markdown",
   "metadata": {},
   "source": [
    "### 1.3 Fahrenheit to Celsius table using `for` loop"
   ]
  },
  {
   "cell_type": "markdown",
   "metadata": {},
   "source": []
  },
  {
   "cell_type": "code",
   "execution_count": null,
   "metadata": {},
   "outputs": [],
   "source": [
    "#include <stdio.h>\n",
    "\n",
    "int main() /* Fahrenheit-Celsius table */\n",
    "{\n",
    "    int fahr;\n",
    "\n",
    "    for (fahr = 0; fahr <= 300; fahr = fahr + 20)\n",
    "        printf(\"%4d %6.1f\\n\", fahr, (5.0/9.0)*(fahr-32));\n",
    "}"
   ]
  },
  {
   "cell_type": "markdown",
   "metadata": {},
   "source": [
    "### 1.5 File Copying"
   ]
  },
  {
   "cell_type": "markdown",
   "metadata": {},
   "source": [
    "get a character\n",
    "while (character is not end file signal)\n",
    "    output the character just read\n",
    "    get a new character\n",
    "\n",
    "- Modern C compilers define EOF in the stdio.h include file - so you should never define EOF in your code. In modern C, the value of EOF is -1, but you should just include stdio.h and use the pre-defined EOF constant to check for end of file. \n",
    "- We also declare c to be an int, not a char, so it can hold the value which getchar returns. As we shall see in Chapter 2, this value is actually an int, since it must be capable of representing EOF in addition to all possible char's."
   ]
  },
  {
   "cell_type": "code",
   "execution_count": 1,
   "metadata": {
    "tags": []
   },
   "outputs": [],
   "source": [
    "#include <stdio.h>\n",
    "\n",
    "int main() /* copy input to output; 1st version */\n",
    "{\n",
    "    int c;\n",
    "    c = getchar();\n",
    "\n",
    "    while (c != EOF) {\n",
    "        putchar(c);\n",
    "        c = getchar();\n",
    "    }\n",
    "}"
   ]
  },
  {
   "cell_type": "markdown",
   "metadata": {},
   "source": [
    "The program for copying would actually be written more concisely by experienced C programmers. In C, any assignment, such as\n",
    "\n",
    "c = getchar()\n",
    "can be used in an expression; its value is simply the value being assigned to the left hand side. If the assignment of a character to c is put inside the test part of a while, the file copy program can be written"
   ]
  },
  {
   "cell_type": "code",
   "execution_count": null,
   "metadata": {},
   "outputs": [],
   "source": [
    "#include <stdio.h>\n",
    "\n",
    "main() /* copy input to output; 2nd version */\n",
    "{\n",
    "    int c;\n",
    "    while ((c = getchar()) != EOF)\n",
    "        putchar(c);\n",
    "}"
   ]
  },
  {
   "cell_type": "markdown",
   "metadata": {},
   "source": [
    "### 1.5 Character Counting"
   ]
  },
  {
   "cell_type": "markdown",
   "metadata": {},
   "source": [
    "- The following code calculates the number of characters in input using a loop. \n",
    "- The ++nc statement increments the variable nc by 1, which is more concise than nc = nc + 1.\n",
    "- There is a corresponding operator -- to decrement by 1.\n",
    "- This operator can be used as a prefix (++nc) or postfix (nc++) with slightly different behavior in expressions."
   ]
  },
  {
   "cell_type": "code",
   "execution_count": null,
   "metadata": {},
   "outputs": [],
   "source": [
    "#include <stdio.h>\n",
    "\n",
    "main() /* count characters in input */\n",
    "{\n",
    "    long nc;\n",
    "\n",
    "    nc = 0;\n",
    "    while (getchar() != EOF)\n",
    "        ++nc;\n",
    "    printf(\"%ld\\n\", nc);\n",
    "}"
   ]
  },
  {
   "cell_type": "markdown",
   "metadata": {},
   "source": [
    "To cope with even bigger numbers, you can use a double (double length float). We will also use a for statement instead of a while, to illustrate an alternative way to write the loop."
   ]
  },
  {
   "cell_type": "code",
   "execution_count": null,
   "metadata": {},
   "outputs": [],
   "source": [
    "#include <stdio.h>\n",
    "\n",
    "main() /* count characters in input */\n",
    "{\n",
    "    double nc;\n",
    "\n",
    "    for (nc = 0; getchar() != EOF; ++nc);\n",
    "    printf(\"%.0f\\n\", nc);\n",
    "}"
   ]
  },
  {
   "cell_type": "markdown",
   "metadata": {},
   "source": [
    "### Line Counting"
   ]
  },
  {
   "cell_type": "markdown",
   "metadata": {},
   "source": [
    "- The next program counts lines in its input. \n",
    "- Input lines are assumed to be terminated by the newline character \\n that has been religiously appended to every line written out."
   ]
  },
  {
   "cell_type": "code",
   "execution_count": null,
   "metadata": {},
   "outputs": [],
   "source": [
    "#include <stdio.h>\n",
    "\n",
    "int main() /* count lines in input */\n",
    "{\n",
    "    int c, nl;\n",
    "\n",
    "    nl = 0;\n",
    "    while ((c = getchar()) != EOF)\n",
    "        if (c == '\\n')\n",
    "            ++nl;\n",
    "    printf(\"%d\\n\", nl);\n",
    "}"
   ]
  }
 ],
 "metadata": {
  "kernelspec": {
   "display_name": "C",
   "language": "c",
   "name": "c"
  },
  "language_info": {
   "file_extension": ".c",
   "mimetype": "text/plain",
   "name": "c"
  },
  "orig_nbformat": 4
 },
 "nbformat": 4,
 "nbformat_minor": 2
}
